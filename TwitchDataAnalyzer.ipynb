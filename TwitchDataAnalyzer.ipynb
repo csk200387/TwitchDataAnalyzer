{
  "cells": [
    {
      "cell_type": "code",
      "source": [
        "#@title 필요 모듈 다운로드\n",
        "\n",
        "!pip install zipfile"
      ],
      "metadata": {
        "colab": {
          "base_uri": "https://localhost:8080/"
        },
        "cellView": "form",
        "id": "m1twTO4cbauN",
        "outputId": "3d535a46-a9e9-44ff-b246-f68faea2a525"
      },
      "execution_count": 1,
      "outputs": [
        {
          "output_type": "stream",
          "name": "stdout",
          "text": [
            "\u001b[31mERROR: Could not find a version that satisfies the requirement zipfile (from versions: none)\u001b[0m\u001b[31m\n",
            "\u001b[0m\u001b[31mERROR: No matching distribution found for zipfile\u001b[0m\u001b[31m\n",
            "\u001b[0m"
          ]
        }
      ]
    },
    {
      "cell_type": "code",
      "execution_count": null,
      "metadata": {
        "colab": {
          "base_uri": "https://localhost:8080/"
        },
        "id": "T61DiXyMEVz0",
        "outputId": "d7889db2-85fd-441d-b9f7-5edc4bf0fc13"
      },
      "outputs": [
        {
          "output_type": "stream",
          "name": "stdout",
          "text": [
            "Mounted at /content/drive\n"
          ]
        }
      ],
      "source": [
        "#@title # 트위치 데이터 파일을 준비 <br> 기본값: 업로드\n",
        "#@markdown 구글드라이브와 연동 옵션\n",
        "Using_Google_Drive = True # @param {type:\"boolean\"}\n",
        "\n",
        "if Using_Google_Drive:\n",
        "    from google.colab import drive\n",
        "    drive.mount('/content/drive')\n",
        "else:\n",
        "    from google.colab import files\n",
        "    file_uploaded = files.upload()"
      ]
    },
    {
      "cell_type": "code",
      "source": [
        "#@title # 데이터 준비 단계\n",
        "\n",
        "import zipfile\n",
        "import os\n",
        "\n",
        "# @markdown 압축파일 경로 입력\n",
        "File_Path = \".\" # @param {type:\"string\"}\n",
        "\n",
        "\n",
        "# 압축파일 경로\n",
        "zip_path = os.path.join('/content/drive/MyDrive/', File_Path, 'requests.zip')\n",
        "\n",
        "# 압축파일 열기\n",
        "with zipfile.ZipFile(zip_path) as zip_file:\n",
        "    # 모든 파일 압축해제\n",
        "    zip_file.extractall('data')"
      ],
      "metadata": {
        "id": "uxpS-WQEXU7h",
        "cellView": "form"
      },
      "execution_count": null,
      "outputs": []
    },
    {
      "cell_type": "markdown",
      "source": [
        "# account Folder"
      ],
      "metadata": {
        "id": "TsyNc4Wkv_NR"
      }
    },
    {
      "cell_type": "code",
      "source": [
        "import csv\n",
        "import pandas as pd\n",
        "\n",
        "with open('./data/account/info/update_email.csv', 'r') as login_rename:\n",
        "    while line := login_rename.readline():\n",
        "        print(*line.split(','), end=\"\", sep=\" \")"
      ],
      "metadata": {
        "id": "ZYByYSLay1mO"
      },
      "execution_count": null,
      "outputs": []
    },
    {
      "cell_type": "code",
      "source": [
        "#@title login_rename.csv header\n",
        "df = pd.read_csv('./data/account/info/login_rename.csv')\n",
        "\n",
        "df.head(10)"
      ],
      "metadata": {
        "id": "qnTSG-qSlWv4",
        "cellView": "form"
      },
      "execution_count": null,
      "outputs": []
    },
    {
      "cell_type": "code",
      "source": [
        "#@title update_email.csv header\n",
        "df = pd.read_csv('./data/account/info/update_email.csv')\n",
        "\n",
        "df.head(10)"
      ],
      "metadata": {
        "cellView": "form",
        "id": "hDTdDLBo8pZt"
      },
      "execution_count": null,
      "outputs": []
    },
    {
      "cell_type": "markdown",
      "source": [
        "# security Folder"
      ],
      "metadata": {
        "id": "7riiCKfN-4DU"
      }
    },
    {
      "cell_type": "code",
      "source": [
        "import csv\n",
        "import pandas as pd\n",
        "\n",
        "with open('./data/account/security/auth_failure_two_factor.csv', 'r') as login_rename:\n",
        "    while line := login_rename.readline():\n",
        "        print(*line.split(','), end=\"\", sep=\" \")"
      ],
      "metadata": {
        "id": "y8Dm2wn2-8ue"
      },
      "execution_count": null,
      "outputs": []
    },
    {
      "cell_type": "code",
      "source": [
        "#@title login_rename.csv header\n",
        "df = pd.read_csv('./data/account/security/auth_failure_two_factor.csv')\n",
        "\n",
        "df.head(10)"
      ],
      "metadata": {
        "id": "Hx4ADNnH--cm"
      },
      "execution_count": null,
      "outputs": []
    }
  ],
  "metadata": {
    "language_info": {
      "name": "python"
    },
    "colab": {
      "provenance": []
    },
    "kernelspec": {
      "name": "python3",
      "display_name": "Python 3"
    }
  },
  "nbformat": 4,
  "nbformat_minor": 0
}