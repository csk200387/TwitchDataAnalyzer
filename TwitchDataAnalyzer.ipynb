{
  "cells": [
    {
      "cell_type": "code",
      "source": [
        "#@title 필요 모듈 다운로드\n",
        "\n",
        "!pip install zipfile"
      ],
      "metadata": {
        "cellView": "form",
        "id": "m1twTO4cbauN"
      },
      "execution_count": null,
      "outputs": []
    },
    {
      "cell_type": "code",
      "execution_count": null,
      "metadata": {
        "id": "T61DiXyMEVz0",
        "cellView": "form"
      },
      "outputs": [],
      "source": [
        "#@title # 트위치 데이터 파일을 준비 <br> 기본값: 업로드\n",
        "#@markdown 구글드라이브와 연동 옵션\n",
        "Using_Google_Drive = True # @param {type:\"boolean\"}\n",
        "\n",
        "if Using_Google_Drive:\n",
        "    from google.colab import drive\n",
        "    drive.mount('/content/drive')\n",
        "else:\n",
        "    from google.colab import files\n",
        "    file_uploaded = files.upload()"
      ]
    },
    {
      "cell_type": "code",
      "source": [
        "#@title # 데이터 준비 단계 - 압축 해제\n",
        "\n",
        "import zipfile\n",
        "import os\n",
        "\n",
        "# @markdown 압축파일 경로 입력\n",
        "File_Path = \".\" # @param {type:\"string\"}\n",
        "\n",
        "\n",
        "# 압축파일 경로\n",
        "zip_path = os.path.join('/content/drive/MyDrive/', File_Path, 'requests.zip')\n",
        "\n",
        "# 압축파일 열기\n",
        "with zipfile.ZipFile(zip_path) as zip_file:\n",
        "    # 모든 파일 압축해제\n",
        "    zip_file.extractall('data')"
      ],
      "metadata": {
        "id": "uxpS-WQEXU7h",
        "cellView": "form"
      },
      "execution_count": null,
      "outputs": []
    },
    {
      "cell_type": "markdown",
      "source": [
        "# account Folder"
      ],
      "metadata": {
        "id": "TsyNc4Wkv_NR"
      }
    },
    {
      "cell_type": "code",
      "source": [
        "import csv\n",
        "import pandas as pd\n",
        "\n",
        "with open('./data/account/info/update_email.csv', 'r') as login_rename:\n",
        "    while line := login_rename.readline():\n",
        "        print(*line.split(','), end=\"\", sep=\" \")"
      ],
      "metadata": {
        "id": "ZYByYSLay1mO"
      },
      "execution_count": null,
      "outputs": []
    },
    {
      "cell_type": "code",
      "source": [
        "#@title login_rename.csv header\n",
        "df = pd.read_csv('./data/account/info/login_rename.csv')\n",
        "\n",
        "df.head(10)"
      ],
      "metadata": {
        "id": "qnTSG-qSlWv4",
        "cellView": "form"
      },
      "execution_count": null,
      "outputs": []
    },
    {
      "cell_type": "code",
      "source": [
        "#@title update_email.csv header\n",
        "df = pd.read_csv('./data/account/info/update_email.csv')\n",
        "\n",
        "df.head(10)"
      ],
      "metadata": {
        "cellView": "form",
        "id": "hDTdDLBo8pZt"
      },
      "execution_count": null,
      "outputs": []
    },
    {
      "cell_type": "markdown",
      "source": [
        "## security Folder"
      ],
      "metadata": {
        "id": "7riiCKfN-4DU"
      }
    },
    {
      "cell_type": "code",
      "source": [
        "import csv\n",
        "import pandas as pd\n",
        "\n",
        "with open('./data/account/security/auth_failure_two_factor.csv', 'r') as login_rename:\n",
        "    while line := login_rename.readline():\n",
        "        print(*line.split(','), end=\"\", sep=\" \")"
      ],
      "metadata": {
        "id": "y8Dm2wn2-8ue"
      },
      "execution_count": null,
      "outputs": []
    },
    {
      "cell_type": "code",
      "source": [
        "#@title login_rename.csv header\n",
        "df = pd.read_csv('./data/account/security/auth_failure_two_factor.csv')\n",
        "\n",
        "df.head(10)"
      ],
      "metadata": {
        "id": "Hx4ADNnH--cm",
        "cellView": "form"
      },
      "execution_count": null,
      "outputs": []
    },
    {
      "cell_type": "markdown",
      "source": [
        "# site_history"
      ],
      "metadata": {
        "id": "B3K8NysEqgRC"
      }
    },
    {
      "cell_type": "code",
      "source": [
        "#@title minute_watched.csv\n",
        "df = pd.read_csv('./data/site_history/minute_watched.csv')\n",
        "\n",
        "df.head(10)"
      ],
      "metadata": {
        "cellView": "form",
        "id": "-VOYBQ86qeHy"
      },
      "execution_count": null,
      "outputs": []
    },
    {
      "cell_type": "code",
      "source": [
        "#@title 헤더 타입 체크 (디버깅용)\n",
        "header_type = ['time', 'broadcaster_software', 'browser', 'buffer_empty_count', 'channel', 'channel_id', 'cluster', 'current_bitrate', 'device_id', 'domain', 'flash_version', 'buffer_size', 'live', 'minutes_logged', 'os', 'partner', 'referrer_domain', 'referrer_host', 'referrer_url', 'stream_format', 'url', 'ip', 'video_buffer_size', 'video_height', 'video_width', 'country', 'city', 'region', 'hls_target_duration', 'asn', 'quality', 'host_channel', 'login', 'chromecast_sender', 'client_time', 'hls_latency_encoder', 'hls_latency_broadcaster', 'seconds_offset', 'subscriber_web', 'viewability_percent_viewable', 'viewability_client_height', 'viewability_client_width', 'percent_width', 'device_diagonal', 'app_version', 'backend', 'platform', 'content_mode', 'current_fps', 'app_fullscreen', 'app_window_width', 'app_window_height', 'chat_visible', 'vod_id', 'vod_type', 'vod_format', 'ui_version', 'vod_timestamp', 'muted', 'volume', 'mobile_connection_type', 'playback_mode', 'captions_enabled', 'quality_change_count', 'player_size_mode', 'is_https', 'transport_segments', 'turbo', 'user_id', 'backend_version', 'time_utc', 'player', 'staff', 'game', 'host_channel_id', 'medium', 'content', 'community_name', 'community_id', 'orientation', 'collection_id', 'vod_cdn_origin', 'vod_cdn_region', 'transcoder_type', 'autoplayed', 'language', 'chat_visibility_status', 'language_short', 'referrer', 'client_app', 'dropped_frames', 'rendered_frames', 'decoded_frames', 'content_id', 'customer_id', 'broadcaster_software_long', 'device_model', 'device_os_version', 'device_manufacturer', 'low_latency', 'browser_family', 'browser_version', 'os_name', 'os_version', 'hidden', 'auto_muted', 'impression_id', 'item_position', 'row_name', 'row_position', 'item_tracking_id', 'is_fallback_player', 'latency_mode_toggle', 'client_build_id', 'squad_stream_id', 'squad_stream_presentation_id', 'tag_set_long', 'tag_filter_set_long', 'tag_set', 'tag_filter_set', 'encrypted', 'clock_drift', 'low_latency_forced', 'vid_display_width', 'vid_display_height', 'estimated_bandwidth', 'chromecast_sender_long', 'average_bitrate', 'collapse_left', 'collapse_right', 'multistream_id', 'multistream_presentation_id', 'core_version', 'user_agent', 'channel_restriction_status', 'viewer_exemption_status', 'channel_restriction_type', 'viewer_exemption_reason', 'previous_tracking_id', 'charging', 'battery_percent', 'distinct_id', 'frame_variance', 'client_time_utc', 'is_mod', 'hls_latency_ingest', 'mod_view', 'origin_dc', 'location', 'consent_comscore_ok', 'protocol', 'video_late_count', 'video_late_duration', 'video_skip_count', 'video_skip_duration', 'airplay_active', 'thermal_state', 'sink_buffer_size', 'player_state', 'ptb', 'raid_id', 'player_framework', 'player_framework_version', 'in_background']\n",
        "\n",
        "for x, y in enumerate(header_type):\n",
        "    print(x, y)\n",
        "\n",
        "arr[4]:"
      ],
      "metadata": {
        "cellView": "form",
        "id": "mgjhBCvv1SPe"
      },
      "execution_count": null,
      "outputs": []
    },
    {
      "cell_type": "code",
      "source": [
        "import csv\n",
        "from collections import defaultdict\n",
        "from tqdm import tqdm\n",
        "\n",
        "watch_data = defaultdict(int)\n",
        "def checking(arr):\n",
        "    header_type = ['time', 'broadcaster_software', 'browser', 'buffer_empty_count', 'channel', 'channel_id', 'cluster', 'current_bitrate', 'device_id', 'domain', 'flash_version', 'buffer_size', 'live', 'minutes_logged', 'os', 'partner', 'referrer_domain', 'referrer_host', 'referrer_url', 'stream_format', 'url', 'ip', 'video_buffer_size', 'video_height', 'video_width', 'country', 'city', 'region', 'hls_target_duration', 'asn', 'quality', 'host_channel', 'login', 'chromecast_sender', 'client_time', 'hls_latency_encoder', 'hls_latency_broadcaster', 'seconds_offset', 'subscriber_web', 'viewability_percent_viewable', 'viewability_client_height', 'viewability_client_width', 'percent_width', 'device_diagonal', 'app_version', 'backend', 'platform', 'content_mode', 'current_fps', 'app_fullscreen', 'app_window_width', 'app_window_height', 'chat_visible', 'vod_id', 'vod_type', 'vod_format', 'ui_version', 'vod_timestamp', 'muted', 'volume', 'mobile_connection_type', 'playback_mode', 'captions_enabled', 'quality_change_count', 'player_size_mode', 'is_https', 'transport_segments', 'turbo', 'user_id', 'backend_version', 'time_utc', 'player', 'staff', 'game', 'host_channel_id', 'medium', 'content', 'community_name', 'community_id', 'orientation', 'collection_id', 'vod_cdn_origin', 'vod_cdn_region', 'transcoder_type', 'autoplayed', 'language', 'chat_visibility_status', 'language_short', 'referrer', 'client_app', 'dropped_frames', 'rendered_frames', 'decoded_frames', 'content_id', 'customer_id', 'broadcaster_software_long', 'device_model', 'device_os_version', 'device_manufacturer', 'low_latency', 'browser_family', 'browser_version', 'os_name', 'os_version', 'hidden', 'auto_muted', 'impression_id', 'item_position', 'row_name', 'row_position', 'item_tracking_id', 'is_fallback_player', 'latency_mode_toggle', 'client_build_id', 'squad_stream_id', 'squad_stream_presentation_id', 'tag_set_long', 'tag_filter_set_long', 'tag_set', 'tag_filter_set', 'encrypted', 'clock_drift', 'low_latency_forced', 'vid_display_width', 'vid_display_height', 'estimated_bandwidth', 'chromecast_sender_long', 'average_bitrate', 'collapse_left', 'collapse_right', 'multistream_id', 'multistream_presentation_id', 'core_version', 'user_agent', 'channel_restriction_status', 'viewer_exemption_status', 'channel_restriction_type', 'viewer_exemption_reason', 'previous_tracking_id', 'charging', 'battery_percent', 'distinct_id', 'frame_variance', 'client_time_utc', 'is_mod', 'hls_latency_ingest', 'mod_view', 'origin_dc', 'location', 'consent_comscore_ok', 'protocol', 'video_late_count', 'video_late_duration', 'video_skip_count', 'video_skip_duration', 'airplay_active', 'thermal_state', 'sink_buffer_size', 'player_state', 'ptb', 'raid_id', 'player_framework', 'player_framework_version', 'in_background']\n",
        "\n",
        "    print(\"Check list\")\n",
        "    for idx, (x, y) in enumerate(zip(header_type, arr)):\n",
        "        print(f\"[{idx:03}]{x:>30}:\\t {y}\")\n",
        "\n",
        "with open('./data/site_history/minute_watched.csv', newline='') as csvfile:\n",
        "    reader = csv.reader(csvfile, delimiter=',')\n",
        "\n",
        "    for row in tqdm(reader):\n",
        "        if row[12] == 't':\n",
        "            watch_data[row[4]] += 1\n",
        "        # if row[4] == \"\":\n",
        "            # checking(row)\n",
        "            # break\n",
        "\n",
        "# 딕셔너리 데이터 정렬\n",
        "watch_data = dict(sorted(watch_data.items(), key=lambda x:(-x[1])))"
      ],
      "metadata": {
        "id": "a6G39iqBslHN"
      },
      "execution_count": null,
      "outputs": []
    },
    {
      "cell_type": "code",
      "source": [
        "for x, y in watch_data.items():\n",
        "    print(x, y)"
      ],
      "metadata": {
        "id": "tvKUKcoS_dNn"
      },
      "execution_count": null,
      "outputs": []
    },
    {
      "cell_type": "code",
      "source": [
        "print(len(watch_data))"
      ],
      "metadata": {
        "id": "OesmgV0H3eyd"
      },
      "execution_count": null,
      "outputs": []
    },
    {
      "cell_type": "code",
      "source": [],
      "metadata": {
        "id": "Ek2FwSOx8jZZ"
      },
      "execution_count": null,
      "outputs": []
    }
  ],
  "metadata": {
    "language_info": {
      "name": "python"
    },
    "colab": {
      "provenance": []
    },
    "kernelspec": {
      "name": "python3",
      "display_name": "Python 3"
    }
  },
  "nbformat": 4,
  "nbformat_minor": 0
}