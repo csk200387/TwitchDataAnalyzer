{
  "cells": [
    {
      "cell_type": "markdown",
      "metadata": {},
      "source": [
        "본 노트북 파일은 Google Colab 기준으로 작성되었습니다."
      ]
    },
    {
      "cell_type": "code",
      "execution_count": 1,
      "metadata": {
        "cellView": "form",
        "colab": {
          "base_uri": "https://localhost:8080/"
        },
        "id": "m1twTO4cbauN",
        "outputId": "af503985-97fc-432f-8cde-daf744e4684b"
      },
      "outputs": [
        {
          "name": "stdout",
          "output_type": "stream",
          "text": [
            "\u001b[31mERROR: Could not find a version that satisfies the requirement zipfile (from versions: none)\u001b[0m\u001b[31m\n",
            "\u001b[0m\u001b[31mERROR: No matching distribution found for zipfile\u001b[0m\u001b[31m\n",
            "\u001b[0m"
          ]
        }
      ],
      "source": [
        "#@title 필요 모듈 다운로드\n",
        "\n",
        "!pip install zipfile"
      ]
    },
    {
      "cell_type": "code",
      "execution_count": 2,
      "metadata": {
        "cellView": "form",
        "colab": {
          "base_uri": "https://localhost:8080/"
        },
        "id": "T61DiXyMEVz0",
        "outputId": "d7889db2-85fd-441d-b9f7-5edc4bf0fc13"
      },
      "outputs": [
        {
          "name": "stdout",
          "output_type": "stream",
          "text": [
            "Mounted at /content/drive\n"
          ]
        }
      ],
      "source": [
        "#@title # 트위치 데이터 파일을 준비해주세요 <br> 기본값: 직접 업로드\n",
        "#@markdown 아래 체크박스를 체크할 시, 구글드라이브와 연동합니다.\n",
        "Using_Google_Drive = True # @param {type:\"boolean\"}\n",
        "\n",
        "if Using_Google_Drive:\n",
        "    from google.colab import drive\n",
        "    drive.mount('/content/drive')\n",
        "else:\n",
        "    from google.colab import files\n",
        "    file_uploaded = files.upload()"
      ]
    },
    {
      "cell_type": "code",
      "execution_count": 3,
      "metadata": {
        "cellView": "form",
        "id": "uxpS-WQEXU7h"
      },
      "outputs": [],
      "source": [
        "#@title # 데이터 준비 단계\n",
        "\n",
        "import zipfile\n",
        "import os\n",
        "\n",
        "# @markdown 압축파일의 위치를 적어주세요\n",
        "File_Path = \".\" # @param {type:\"string\"}\n",
        "\n",
        "\n",
        "# 압축파일 경로\n",
        "zip_path = os.path.join('/content/drive/MyDrive/', File_Path, 'requests.zip')\n",
        "\n",
        "# 압축파일 열기\n",
        "with zipfile.ZipFile(zip_path) as zip_file:\n",
        "    # 모든 파일 압축해제\n",
        "    zip_file.extractall('data')"
      ]
    },
    {
      "cell_type": "markdown",
      "metadata": {
        "id": "TsyNc4Wkv_NR"
      },
      "source": [
        "# account Folder"
      ]
    },
    {
      "cell_type": "code",
      "execution_count": null,
      "metadata": {
        "id": "ZYByYSLay1mO"
      },
      "outputs": [],
      "source": [
        "with open('./data/account/info/login_rename.csv', 'r') as login_rename:\n",
        "    while line := login_rename.readline():\n",
        "        print(*line.split(','), end=\"\", sep=\"\\t\")"
      ]
    },
    {
      "cell_type": "code",
      "execution_count": null,
      "metadata": {
        "id": "uBVuYHHpy1k8"
      },
      "outputs": [],
      "source": []
    },
    {
      "cell_type": "code",
      "execution_count": null,
      "metadata": {
        "id": "qnTSG-qSlWv4"
      },
      "outputs": [],
      "source": [
        "import csv\n",
        "import pandas as pd\n",
        "\n",
        "# with open('./data/account/info/login_rename.csv', 'r') as login_rename:\n",
        "#     reader = csv.reader(login_rename)\n",
        "#     data = list(reader)\n",
        "\n",
        "# df = pd.DataFrame(data)\n",
        "\n",
        "df = pd.read_csv('./data/account/info/login_rename.csv')\n",
        "\n",
        "print(df)"
      ]
    }
  ],
  "metadata": {
    "colab": {
      "provenance": []
    },
    "kernelspec": {
      "display_name": "Python 3",
      "name": "python3"
    },
    "language_info": {
      "name": "python"
    }
  },
  "nbformat": 4,
  "nbformat_minor": 0
}
