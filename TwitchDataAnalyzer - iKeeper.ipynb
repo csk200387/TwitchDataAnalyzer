{
  "cells": [
    {
      "cell_type": "code",
      "source": [
        "# 모듈 리스트\n",
        "\n",
        "!pip install zipfile"
      ],
      "metadata": {
        "id": "m1twTO4cbauN",
        "outputId": "9387a439-5ff4-42c2-a610-eb1ea2fbabd6",
        "colab": {
          "base_uri": "https://localhost:8080/"
        }
      },
      "execution_count": 6,
      "outputs": [
        {
          "output_type": "stream",
          "name": "stdout",
          "text": [
            "\u001b[31mERROR: Could not find a version that satisfies the requirement zipfile (from versions: none)\u001b[0m\u001b[31m\n",
            "\u001b[0m\u001b[31mERROR: No matching distribution found for zipfile\u001b[0m\u001b[31m\n",
            "\u001b[0m"
          ]
        }
      ]
    },
    {
      "cell_type": "code",
      "execution_count": 3,
      "metadata": {
        "colab": {
          "base_uri": "https://localhost:8080/"
        },
        "cellView": "form",
        "id": "T61DiXyMEVz0",
        "outputId": "09da77ae-a2eb-4bef-bd8c-08415db2690f"
      },
      "outputs": [
        {
          "output_type": "stream",
          "name": "stdout",
          "text": [
            "Mounted at /content/drive\n"
          ]
        }
      ],
      "source": [
        "#@title # 트위치 데이터 파일을 준비해주세요 <br> 기본값: 직접 업로드\n",
        "Using_Google_Drive = True # @param {type:\"boolean\"}\n",
        "\n",
        "if Using_Google_Drive:\n",
        "    from google.colab import drive\n",
        "    drive.mount('/content/drive')\n",
        "else:\n",
        "    from google.colab import files\n",
        "    file_uploaded = files.upload()"
      ]
    },
    {
      "cell_type": "code",
      "source": [
        "#@title # 구글 드라이브에서 파일 가져오기\n",
        "\n",
        "import zipfile\n",
        "import os\n",
        "\n",
        "\n",
        "\n",
        "\n",
        "# zipfile.ZipFile('/content/drive/MyDrive/requests.zip').extractall()\n",
        "\n",
        "\n",
        "\n",
        "import zipfile\n",
        "\n",
        "# 압축파일 경로\n",
        "zip_path = \"/content/drive/MyDrive/requests.zip\"\n",
        "\n",
        "# 압축해제할 경로\n",
        "extract_path = \"./data\"\n",
        "\n",
        "# 압축파일 열기\n",
        "with zipfile.ZipFile(zip_path) as zip_file:\n",
        "    # 모든 파일 압축해제\n",
        "    zip_file.extractall(extract_path)"
      ],
      "metadata": {
        "id": "uxpS-WQEXU7h"
      },
      "execution_count": 14,
      "outputs": []
    },
    {
      "cell_type": "code",
      "source": [
        "!ls -al"
      ],
      "metadata": {
        "id": "K77h6-ZWcRGV",
        "outputId": "724a7725-e604-42b5-f0bc-e66114057c1e",
        "colab": {
          "base_uri": "https://localhost:8080/"
        }
      },
      "execution_count": 13,
      "outputs": [
        {
          "output_type": "stream",
          "name": "stdout",
          "text": [
            "total 60\n",
            "drwxr-xr-x 1 root root 4096 Oct  6 10:02 .\n",
            "drwxr-xr-x 1 root root 4096 Oct  6 08:17 ..\n",
            "drwxr-xr-x 4 root root 4096 Oct  6 10:02 account\n",
            "drwxr-xr-x 2 root root 4096 Oct  6 10:02 ads\n",
            "drwxr-xr-x 4 root root 4096 Oct  6 10:02 commerce\n",
            "drwxr-xr-x 3 root root 4096 Oct  6 10:02 community\n",
            "drwxr-xr-x 4 root root 4096 Oct  4 13:22 .config\n",
            "drwxr-xr-x 2 root root 4096 Oct  6 10:02 developer\n",
            "drwx------ 6 root root 4096 Oct  6 09:59 drive\n",
            "drwxr-xr-x 2 root root 4096 Oct  6 10:02 extension\n",
            "-rw-r--r-- 1 root root 1159 Oct  6 10:02 metadata.json\n",
            "drwxr-xr-x 1 root root 4096 Oct  4 13:23 sample_data\n",
            "drwxr-xr-x 2 root root 4096 Oct  6 10:02 site_history\n",
            "drwxr-xr-x 4 root root 4096 Oct  6 10:02 users\n",
            "drwxr-xr-x 2 root root 4096 Oct  6 10:02 vod\n"
          ]
        }
      ]
    }
  ],
  "metadata": {
    "language_info": {
      "name": "python"
    },
    "colab": {
      "provenance": []
    },
    "kernelspec": {
      "name": "python3",
      "display_name": "Python 3"
    }
  },
  "nbformat": 4,
  "nbformat_minor": 0
}