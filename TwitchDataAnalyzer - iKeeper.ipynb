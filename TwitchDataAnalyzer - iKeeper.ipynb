{
  "cells": [
    {
      "cell_type": "code",
      "source": [
        "#@title 필요 모듈 다운로드\n",
        "\n",
        "!pip install zipfile"
      ],
      "metadata": {
        "colab": {
          "base_uri": "https://localhost:8080/"
        },
        "cellView": "form",
        "id": "m1twTO4cbauN",
        "outputId": "ec763447-144e-47b9-da12-8792f5f8f30e"
      },
      "execution_count": 1,
      "outputs": [
        {
          "output_type": "stream",
          "name": "stdout",
          "text": [
            "\u001b[31mERROR: Could not find a version that satisfies the requirement zipfile (from versions: none)\u001b[0m\u001b[31m\n",
            "\u001b[0m\u001b[31mERROR: No matching distribution found for zipfile\u001b[0m\u001b[31m\n",
            "\u001b[0m"
          ]
        }
      ]
    },
    {
      "cell_type": "code",
      "execution_count": 2,
      "metadata": {
        "colab": {
          "base_uri": "https://localhost:8080/"
        },
        "cellView": "form",
        "id": "T61DiXyMEVz0",
        "outputId": "e874b33a-ca2e-46a9-a96a-1f17a5222bdd"
      },
      "outputs": [
        {
          "output_type": "stream",
          "name": "stdout",
          "text": [
            "Mounted at /content/drive\n"
          ]
        }
      ],
      "source": [
        "#@title # 트위치 데이터 파일을 준비해주세요 <br> 기본값: 직접 업로드\n",
        "#@markdown 아래 체크박스를 체크할 시, 구글드라이브와 연동합니다.\n",
        "Using_Google_Drive = True # @param {type:\"boolean\"}\n",
        "\n",
        "if Using_Google_Drive:\n",
        "    from google.colab import drive\n",
        "    drive.mount('/content/drive')\n",
        "else:\n",
        "    from google.colab import files\n",
        "    file_uploaded = files.upload()"
      ]
    },
    {
      "cell_type": "code",
      "source": [
        "#@title # 데이터 준비 단계\n",
        "\n",
        "import zipfile\n",
        "import os\n",
        "\n",
        "# @markdown 압축파일의 위치를 적어주세요\n",
        "File_Path = \".\" # @param {type:\"string\"}\n",
        "\n",
        "\n",
        "# 압축파일 경로\n",
        "zip_path = os.path.join('/content/drive/MyDrive/', File_Path, 'requests.zip')\n",
        "\n",
        "# 압축파일 열기\n",
        "with zipfile.ZipFile(zip_path) as zip_file:\n",
        "    # 모든 파일 압축해제\n",
        "    zip_file.extractall('data')"
      ],
      "metadata": {
        "id": "uxpS-WQEXU7h"
      },
      "execution_count": 4,
      "outputs": []
    },
    {
      "cell_type": "code",
      "source": [],
      "metadata": {
        "id": "qnTSG-qSlWv4"
      },
      "execution_count": 3,
      "outputs": []
    }
  ],
  "metadata": {
    "language_info": {
      "name": "python"
    },
    "colab": {
      "provenance": []
    },
    "kernelspec": {
      "name": "python3",
      "display_name": "Python 3"
    }
  },
  "nbformat": 4,
  "nbformat_minor": 0
}